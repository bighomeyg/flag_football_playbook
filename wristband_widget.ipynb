{
 "cells": [
  {
   "cell_type": "code",
   "execution_count": 44,
   "metadata": {},
   "outputs": [],
   "source": [
    "import ipywidgets as widgets\n",
    "from ipywidgets import VBox, HBox"
   ]
  },
  {
   "cell_type": "code",
   "execution_count": 123,
   "metadata": {},
   "outputs": [],
   "source": [
    "colors = ['Blue', 'Red', 'Purple', 'Yellow', 'Green']\n",
    "alignment = []\n",
    "assignment = []\n",
    "\n",
    "for color in colors:\n",
    "    alignment.append(widgets.Text(\n",
    "    value='0',\n",
    "    description=color,\n",
    "    disabled=False\n",
    "    ))\n",
    "    assignment.append(widgets.Dropdown(\n",
    "    options=['Slant Right', 'Slant Left', 'Hitch Right', 'Hitch Left',\n",
    "             'Post Right', 'Post Left', 'Bender Right', 'Bender Left',\n",
    "             'Fade', 'Run Right', 'Run Left'],\n",
    "    value='Slant Right',\n",
    "    description=color,\n",
    "    disabled=False,\n",
    "    ))\n",
    "    \n"
   ]
  },
  {
   "cell_type": "code",
   "execution_count": 124,
   "metadata": {},
   "outputs": [],
   "source": [
    "button = widgets.Button(description='Add Play')\n",
    "out = widgets.Output()\n",
    "def on_button_clicked(b):\n",
    "    #button.description = 'clicked'\n",
    "    \n",
    "    with out:\n",
    "        for n, color in enumerate(colors):\n",
    "            player_alignment = alignment[n].value\n",
    "            player_assignment = assignment[n].value\n",
    "            playbook_alignments[color.lower()].append(player_alignment)\n",
    "            playbook_assignments[color.lower()].append(player_assignment)\n",
    "        print('Play Added')"
   ]
  },
  {
   "cell_type": "code",
   "execution_count": 125,
   "metadata": {},
   "outputs": [
    {
     "data": {
      "application/vnd.jupyter.widget-view+json": {
       "model_id": "3663dc91109f4161b79044d4d5e8a8e8",
       "version_major": 2,
       "version_minor": 0
      },
      "text/plain": [
       "HBox(children=(VBox(children=(Text(value='0', description='Blue'), Text(value='0', description='Red'), Text(va…"
      ]
     },
     "metadata": {},
     "output_type": "display_data"
    }
   ],
   "source": [
    "alignments = VBox(alignment)\n",
    "assignments = VBox(assignment)\n",
    "\n",
    "pb = HBox([alignments, assignments])\n",
    "pb"
   ]
  },
  {
   "cell_type": "code",
   "execution_count": 141,
   "metadata": {},
   "outputs": [],
   "source": [
    "#for x in playbook_assignments.keys():\n",
    "#    playbook_assignments[x].pop()"
   ]
  },
  {
   "cell_type": "code",
   "execution_count": 126,
   "metadata": {},
   "outputs": [
    {
     "data": {
      "application/vnd.jupyter.widget-view+json": {
       "model_id": "2475d53284a04ffd840f00c170dc910b",
       "version_major": 2,
       "version_minor": 0
      },
      "text/plain": [
       "VBox(children=(Button(description='Add Play', style=ButtonStyle()), Output()))"
      ]
     },
     "metadata": {},
     "output_type": "display_data"
    }
   ],
   "source": [
    "button.on_click(on_button_clicked)\n",
    "widgets.VBox([button, out])"
   ]
  },
  {
   "cell_type": "code",
   "execution_count": 160,
   "metadata": {},
   "outputs": [
    {
     "data": {
      "text/plain": [
       "{'blue': ['Bender Left',\n",
       "  'Bender Right',\n",
       "  'Slant Right',\n",
       "  'Slant Left',\n",
       "  'Fade',\n",
       "  'Slant Right',\n",
       "  'Slant Right',\n",
       "  'Hitch Right',\n",
       "  'Post Left',\n",
       "  'Post Right',\n",
       "  'Hitch Left'],\n",
       " 'red': ['Bender Left',\n",
       "  'Bender Right',\n",
       "  'Fade',\n",
       "  'Bender Right',\n",
       "  'Bender Right',\n",
       "  'Bender Left',\n",
       "  'Fade',\n",
       "  'Bender Right',\n",
       "  'Post Left',\n",
       "  'Bender Left',\n",
       "  'Bender Left'],\n",
       " 'purple': ['Bender Left',\n",
       "  'Bender Right',\n",
       "  'Bender Left',\n",
       "  'Bender Right',\n",
       "  'Post Right',\n",
       "  'Bender Left',\n",
       "  'Fade',\n",
       "  'Bender Left',\n",
       "  'Bender Right',\n",
       "  'Slant Right',\n",
       "  'Bender Right'],\n",
       " 'yellow': ['Run Left',\n",
       "  'Run Right',\n",
       "  'Run Left',\n",
       "  'Run Right',\n",
       "  'Run Right',\n",
       "  'Bender Left',\n",
       "  'Bender Right',\n",
       "  'Slant Left',\n",
       "  'Slant Right',\n",
       "  'Slant Left',\n",
       "  'Bender Left'],\n",
       " 'green': ['Bender Left',\n",
       "  'Bender Right',\n",
       "  'Bender Left',\n",
       "  'Bender Left',\n",
       "  'Run Left',\n",
       "  'Bender Left',\n",
       "  'Bender Left',\n",
       "  'Hitch Left',\n",
       "  'Slant Left',\n",
       "  'Post Right',\n",
       "  'Post Right']}"
      ]
     },
     "execution_count": 160,
     "metadata": {},
     "output_type": "execute_result"
    }
   ],
   "source": [
    "playbook_assignments"
   ]
  },
  {
   "cell_type": "code",
   "execution_count": 159,
   "metadata": {},
   "outputs": [
    {
     "data": {
      "text/plain": [
       "{'blue': ['0', '0', '0', '0', '0', '0', '0', '0', '0', '0', '0'],\n",
       " 'red': ['-6', '2', '-15', '-15', '-15', '-6', '-15', '-5', '-5', '-5', '2'],\n",
       " 'purple': ['-4', '4', '-2', '2', '15', '-4', '15', '-8', '5', '-10', '-6'],\n",
       " 'yellow': ['RB Left',\n",
       "  'RB Right',\n",
       "  'RB Right',\n",
       "  'RB Left',\n",
       "  'RB Left',\n",
       "  'RB Left',\n",
       "  'RB Left',\n",
       "  'RB Left',\n",
       "  'RB Left',\n",
       "  'RB Left',\n",
       "  'RB Left'],\n",
       " 'green': ['-2',\n",
       "  '6',\n",
       "  '15',\n",
       "  '15',\n",
       "  'RB Right',\n",
       "  '-2',\n",
       "  'RB Right',\n",
       "  '15',\n",
       "  '10',\n",
       "  '8',\n",
       "  '6']}"
      ]
     },
     "execution_count": 159,
     "metadata": {},
     "output_type": "execute_result"
    }
   ],
   "source": [
    "playbook_alignments"
   ]
  },
  {
   "cell_type": "code",
   "execution_count": 156,
   "metadata": {},
   "outputs": [],
   "source": [
    "import pandas as pd\n",
    "c = pd.DataFrame([playbook_alignments[color.lower()], playbook_assignments[color.lower()]]).T"
   ]
  },
  {
   "cell_type": "code",
   "execution_count": 157,
   "metadata": {},
   "outputs": [],
   "source": [
    "c.to_csv(\"test.csv\")"
   ]
  },
  {
   "cell_type": "code",
   "execution_count": 158,
   "metadata": {},
   "outputs": [],
   "source": [
    "for color in colors:\n",
    "    p = pd.DataFrame([playbook_alignments[color.lower()], playbook_assignments[color.lower()]]).T\n",
    "    p.columns = ['Alignment', 'Assignment']\n",
    "    p.to_csv(f'{color}_practice.csv')\n",
    "    \n",
    "    \n",
    "    \n",
    "    "
   ]
  },
  {
   "cell_type": "code",
   "execution_count": null,
   "metadata": {},
   "outputs": [],
   "source": []
  },
  {
   "cell_type": "code",
   "execution_count": 127,
   "metadata": {},
   "outputs": [],
   "source": [
    "playbook_alignments = {'blue':[], \n",
    "                       'red':[], \n",
    "                       'purple':[], \n",
    "                       'yellow':[], \n",
    "                       'green':[]}\n",
    "\n",
    "playbook_assignments = {'blue':[], \n",
    "                        'red':[], \n",
    "                        'purple':[], \n",
    "                        'yellow':[], \n",
    "                        'green':[]}"
   ]
  },
  {
   "cell_type": "code",
   "execution_count": null,
   "metadata": {},
   "outputs": [],
   "source": []
  }
 ],
 "metadata": {
  "kernelspec": {
   "display_name": "Python 3",
   "language": "python",
   "name": "python3"
  },
  "language_info": {
   "codemirror_mode": {
    "name": "ipython",
    "version": 3
   },
   "file_extension": ".py",
   "mimetype": "text/x-python",
   "name": "python",
   "nbconvert_exporter": "python",
   "pygments_lexer": "ipython3",
   "version": "3.6.6"
  }
 },
 "nbformat": 4,
 "nbformat_minor": 2
}
